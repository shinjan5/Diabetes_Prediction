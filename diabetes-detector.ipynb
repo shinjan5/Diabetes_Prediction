{
 "cells": [
  {
   "cell_type": "code",
   "execution_count": 1,
   "id": "cc6347fc",
   "metadata": {
    "_cell_guid": "b1076dfc-b9ad-4769-8c92-a6c4dae69d19",
    "_uuid": "8f2839f25d086af736a60e9eeb907d3b93b6e0e5",
    "execution": {
     "iopub.execute_input": "2025-07-17T08:09:56.558480Z",
     "iopub.status.busy": "2025-07-17T08:09:56.558099Z",
     "iopub.status.idle": "2025-07-17T08:10:00.256335Z",
     "shell.execute_reply": "2025-07-17T08:10:00.255254Z"
    },
    "papermill": {
     "duration": 3.705615,
     "end_time": "2025-07-17T08:10:00.258162",
     "exception": false,
     "start_time": "2025-07-17T08:09:56.552547",
     "status": "completed"
    },
    "tags": []
   },
   "outputs": [],
   "source": [
    "import pandas as pd\n",
    "import numpy as np\n",
    "import matplotlib.pyplot as plt\n",
    "import seaborn as sns \n",
    "\n"
   ]
  },
  {
   "cell_type": "code",
   "execution_count": 2,
   "id": "9c34a13c",
   "metadata": {
    "execution": {
     "iopub.execute_input": "2025-07-17T08:10:00.267329Z",
     "iopub.status.busy": "2025-07-17T08:10:00.266917Z",
     "iopub.status.idle": "2025-07-17T08:10:00.315321Z",
     "shell.execute_reply": "2025-07-17T08:10:00.314178Z"
    },
    "papermill": {
     "duration": 0.054815,
     "end_time": "2025-07-17T08:10:00.317036",
     "exception": false,
     "start_time": "2025-07-17T08:10:00.262221",
     "status": "completed"
    },
    "tags": []
   },
   "outputs": [
    {
     "name": "stdout",
     "output_type": "stream",
     "text": [
      "Pregnancies                 0\n",
      "Glucose                     0\n",
      "BloodPressure               0\n",
      "SkinThickness               0\n",
      "Insulin                     0\n",
      "BMI                         0\n",
      "DiabetesPedigreeFunction    0\n",
      "Age                         0\n",
      "Outcome                     0\n",
      "dtype: int64\n"
     ]
    }
   ],
   "source": [
    "\n",
    "data = pd.read_csv(\"/kaggle/input/pima-indians-diabetes-database/diabetes.csv\")\n",
    "\n",
    "\n",
    "cols_with_zeros = ['Glucose', 'BloodPressure', 'SkinThickness', 'Insulin', 'BMI']\n",
    "\n",
    "\n",
    "data[cols_with_zeros] = data[cols_with_zeros].replace(0, np.nan)\n",
    "\n",
    "\n",
    "data[cols_with_zeros] = data[cols_with_zeros].fillna(data[cols_with_zeros].median())\n",
    "\n",
    "print(data.isnull().sum())  \n"
   ]
  },
  {
   "cell_type": "code",
   "execution_count": 3,
   "id": "b543e8c8",
   "metadata": {
    "execution": {
     "iopub.execute_input": "2025-07-17T08:10:00.326606Z",
     "iopub.status.busy": "2025-07-17T08:10:00.325776Z",
     "iopub.status.idle": "2025-07-17T08:10:00.373002Z",
     "shell.execute_reply": "2025-07-17T08:10:00.372056Z"
    },
    "papermill": {
     "duration": 0.053416,
     "end_time": "2025-07-17T08:10:00.374494",
     "exception": false,
     "start_time": "2025-07-17T08:10:00.321078",
     "status": "completed"
    },
    "tags": []
   },
   "outputs": [
    {
     "data": {
      "text/html": [
       "<div>\n",
       "<style scoped>\n",
       "    .dataframe tbody tr th:only-of-type {\n",
       "        vertical-align: middle;\n",
       "    }\n",
       "\n",
       "    .dataframe tbody tr th {\n",
       "        vertical-align: top;\n",
       "    }\n",
       "\n",
       "    .dataframe thead th {\n",
       "        text-align: right;\n",
       "    }\n",
       "</style>\n",
       "<table border=\"1\" class=\"dataframe\">\n",
       "  <thead>\n",
       "    <tr style=\"text-align: right;\">\n",
       "      <th></th>\n",
       "      <th>Pregnancies</th>\n",
       "      <th>Glucose</th>\n",
       "      <th>BloodPressure</th>\n",
       "      <th>SkinThickness</th>\n",
       "      <th>Insulin</th>\n",
       "      <th>BMI</th>\n",
       "      <th>DiabetesPedigreeFunction</th>\n",
       "      <th>Age</th>\n",
       "      <th>Outcome</th>\n",
       "    </tr>\n",
       "  </thead>\n",
       "  <tbody>\n",
       "    <tr>\n",
       "      <th>count</th>\n",
       "      <td>768.000000</td>\n",
       "      <td>768.000000</td>\n",
       "      <td>768.000000</td>\n",
       "      <td>768.000000</td>\n",
       "      <td>768.000000</td>\n",
       "      <td>768.000000</td>\n",
       "      <td>768.000000</td>\n",
       "      <td>768.000000</td>\n",
       "      <td>768.000000</td>\n",
       "    </tr>\n",
       "    <tr>\n",
       "      <th>mean</th>\n",
       "      <td>3.845052</td>\n",
       "      <td>121.656250</td>\n",
       "      <td>72.386719</td>\n",
       "      <td>29.108073</td>\n",
       "      <td>140.671875</td>\n",
       "      <td>32.455208</td>\n",
       "      <td>0.471876</td>\n",
       "      <td>33.240885</td>\n",
       "      <td>0.348958</td>\n",
       "    </tr>\n",
       "    <tr>\n",
       "      <th>std</th>\n",
       "      <td>3.369578</td>\n",
       "      <td>30.438286</td>\n",
       "      <td>12.096642</td>\n",
       "      <td>8.791221</td>\n",
       "      <td>86.383060</td>\n",
       "      <td>6.875177</td>\n",
       "      <td>0.331329</td>\n",
       "      <td>11.760232</td>\n",
       "      <td>0.476951</td>\n",
       "    </tr>\n",
       "    <tr>\n",
       "      <th>min</th>\n",
       "      <td>0.000000</td>\n",
       "      <td>44.000000</td>\n",
       "      <td>24.000000</td>\n",
       "      <td>7.000000</td>\n",
       "      <td>14.000000</td>\n",
       "      <td>18.200000</td>\n",
       "      <td>0.078000</td>\n",
       "      <td>21.000000</td>\n",
       "      <td>0.000000</td>\n",
       "    </tr>\n",
       "    <tr>\n",
       "      <th>25%</th>\n",
       "      <td>1.000000</td>\n",
       "      <td>99.750000</td>\n",
       "      <td>64.000000</td>\n",
       "      <td>25.000000</td>\n",
       "      <td>121.500000</td>\n",
       "      <td>27.500000</td>\n",
       "      <td>0.243750</td>\n",
       "      <td>24.000000</td>\n",
       "      <td>0.000000</td>\n",
       "    </tr>\n",
       "    <tr>\n",
       "      <th>50%</th>\n",
       "      <td>3.000000</td>\n",
       "      <td>117.000000</td>\n",
       "      <td>72.000000</td>\n",
       "      <td>29.000000</td>\n",
       "      <td>125.000000</td>\n",
       "      <td>32.300000</td>\n",
       "      <td>0.372500</td>\n",
       "      <td>29.000000</td>\n",
       "      <td>0.000000</td>\n",
       "    </tr>\n",
       "    <tr>\n",
       "      <th>75%</th>\n",
       "      <td>6.000000</td>\n",
       "      <td>140.250000</td>\n",
       "      <td>80.000000</td>\n",
       "      <td>32.000000</td>\n",
       "      <td>127.250000</td>\n",
       "      <td>36.600000</td>\n",
       "      <td>0.626250</td>\n",
       "      <td>41.000000</td>\n",
       "      <td>1.000000</td>\n",
       "    </tr>\n",
       "    <tr>\n",
       "      <th>max</th>\n",
       "      <td>17.000000</td>\n",
       "      <td>199.000000</td>\n",
       "      <td>122.000000</td>\n",
       "      <td>99.000000</td>\n",
       "      <td>846.000000</td>\n",
       "      <td>67.100000</td>\n",
       "      <td>2.420000</td>\n",
       "      <td>81.000000</td>\n",
       "      <td>1.000000</td>\n",
       "    </tr>\n",
       "  </tbody>\n",
       "</table>\n",
       "</div>"
      ],
      "text/plain": [
       "       Pregnancies     Glucose  BloodPressure  SkinThickness     Insulin  \\\n",
       "count   768.000000  768.000000     768.000000     768.000000  768.000000   \n",
       "mean      3.845052  121.656250      72.386719      29.108073  140.671875   \n",
       "std       3.369578   30.438286      12.096642       8.791221   86.383060   \n",
       "min       0.000000   44.000000      24.000000       7.000000   14.000000   \n",
       "25%       1.000000   99.750000      64.000000      25.000000  121.500000   \n",
       "50%       3.000000  117.000000      72.000000      29.000000  125.000000   \n",
       "75%       6.000000  140.250000      80.000000      32.000000  127.250000   \n",
       "max      17.000000  199.000000     122.000000      99.000000  846.000000   \n",
       "\n",
       "              BMI  DiabetesPedigreeFunction         Age     Outcome  \n",
       "count  768.000000                768.000000  768.000000  768.000000  \n",
       "mean    32.455208                  0.471876   33.240885    0.348958  \n",
       "std      6.875177                  0.331329   11.760232    0.476951  \n",
       "min     18.200000                  0.078000   21.000000    0.000000  \n",
       "25%     27.500000                  0.243750   24.000000    0.000000  \n",
       "50%     32.300000                  0.372500   29.000000    0.000000  \n",
       "75%     36.600000                  0.626250   41.000000    1.000000  \n",
       "max     67.100000                  2.420000   81.000000    1.000000  "
      ]
     },
     "execution_count": 3,
     "metadata": {},
     "output_type": "execute_result"
    }
   ],
   "source": [
    "data.describe()"
   ]
  },
  {
   "cell_type": "code",
   "execution_count": 4,
   "id": "d97db6f3",
   "metadata": {
    "execution": {
     "iopub.execute_input": "2025-07-17T08:10:00.383586Z",
     "iopub.status.busy": "2025-07-17T08:10:00.383254Z",
     "iopub.status.idle": "2025-07-17T08:10:00.395773Z",
     "shell.execute_reply": "2025-07-17T08:10:00.395031Z"
    },
    "papermill": {
     "duration": 0.018572,
     "end_time": "2025-07-17T08:10:00.397181",
     "exception": false,
     "start_time": "2025-07-17T08:10:00.378609",
     "status": "completed"
    },
    "tags": []
   },
   "outputs": [
    {
     "data": {
      "text/html": [
       "<div>\n",
       "<style scoped>\n",
       "    .dataframe tbody tr th:only-of-type {\n",
       "        vertical-align: middle;\n",
       "    }\n",
       "\n",
       "    .dataframe tbody tr th {\n",
       "        vertical-align: top;\n",
       "    }\n",
       "\n",
       "    .dataframe thead th {\n",
       "        text-align: right;\n",
       "    }\n",
       "</style>\n",
       "<table border=\"1\" class=\"dataframe\">\n",
       "  <thead>\n",
       "    <tr style=\"text-align: right;\">\n",
       "      <th></th>\n",
       "      <th>Pregnancies</th>\n",
       "      <th>Glucose</th>\n",
       "      <th>BloodPressure</th>\n",
       "      <th>SkinThickness</th>\n",
       "      <th>Insulin</th>\n",
       "      <th>BMI</th>\n",
       "      <th>DiabetesPedigreeFunction</th>\n",
       "      <th>Age</th>\n",
       "      <th>Outcome</th>\n",
       "    </tr>\n",
       "  </thead>\n",
       "  <tbody>\n",
       "    <tr>\n",
       "      <th>0</th>\n",
       "      <td>6</td>\n",
       "      <td>148.0</td>\n",
       "      <td>72.0</td>\n",
       "      <td>35.0</td>\n",
       "      <td>125.0</td>\n",
       "      <td>33.6</td>\n",
       "      <td>0.627</td>\n",
       "      <td>50</td>\n",
       "      <td>1</td>\n",
       "    </tr>\n",
       "    <tr>\n",
       "      <th>1</th>\n",
       "      <td>1</td>\n",
       "      <td>85.0</td>\n",
       "      <td>66.0</td>\n",
       "      <td>29.0</td>\n",
       "      <td>125.0</td>\n",
       "      <td>26.6</td>\n",
       "      <td>0.351</td>\n",
       "      <td>31</td>\n",
       "      <td>0</td>\n",
       "    </tr>\n",
       "    <tr>\n",
       "      <th>2</th>\n",
       "      <td>8</td>\n",
       "      <td>183.0</td>\n",
       "      <td>64.0</td>\n",
       "      <td>29.0</td>\n",
       "      <td>125.0</td>\n",
       "      <td>23.3</td>\n",
       "      <td>0.672</td>\n",
       "      <td>32</td>\n",
       "      <td>1</td>\n",
       "    </tr>\n",
       "    <tr>\n",
       "      <th>3</th>\n",
       "      <td>1</td>\n",
       "      <td>89.0</td>\n",
       "      <td>66.0</td>\n",
       "      <td>23.0</td>\n",
       "      <td>94.0</td>\n",
       "      <td>28.1</td>\n",
       "      <td>0.167</td>\n",
       "      <td>21</td>\n",
       "      <td>0</td>\n",
       "    </tr>\n",
       "    <tr>\n",
       "      <th>4</th>\n",
       "      <td>0</td>\n",
       "      <td>137.0</td>\n",
       "      <td>40.0</td>\n",
       "      <td>35.0</td>\n",
       "      <td>168.0</td>\n",
       "      <td>43.1</td>\n",
       "      <td>2.288</td>\n",
       "      <td>33</td>\n",
       "      <td>1</td>\n",
       "    </tr>\n",
       "  </tbody>\n",
       "</table>\n",
       "</div>"
      ],
      "text/plain": [
       "   Pregnancies  Glucose  BloodPressure  SkinThickness  Insulin   BMI  \\\n",
       "0            6    148.0           72.0           35.0    125.0  33.6   \n",
       "1            1     85.0           66.0           29.0    125.0  26.6   \n",
       "2            8    183.0           64.0           29.0    125.0  23.3   \n",
       "3            1     89.0           66.0           23.0     94.0  28.1   \n",
       "4            0    137.0           40.0           35.0    168.0  43.1   \n",
       "\n",
       "   DiabetesPedigreeFunction  Age  Outcome  \n",
       "0                     0.627   50        1  \n",
       "1                     0.351   31        0  \n",
       "2                     0.672   32        1  \n",
       "3                     0.167   21        0  \n",
       "4                     2.288   33        1  "
      ]
     },
     "execution_count": 4,
     "metadata": {},
     "output_type": "execute_result"
    }
   ],
   "source": [
    "data.head()"
   ]
  },
  {
   "cell_type": "code",
   "execution_count": 5,
   "id": "7525e624",
   "metadata": {
    "execution": {
     "iopub.execute_input": "2025-07-17T08:10:00.407107Z",
     "iopub.status.busy": "2025-07-17T08:10:00.406262Z",
     "iopub.status.idle": "2025-07-17T08:10:00.424836Z",
     "shell.execute_reply": "2025-07-17T08:10:00.423829Z"
    },
    "papermill": {
     "duration": 0.024851,
     "end_time": "2025-07-17T08:10:00.426252",
     "exception": false,
     "start_time": "2025-07-17T08:10:00.401401",
     "status": "completed"
    },
    "tags": []
   },
   "outputs": [
    {
     "name": "stdout",
     "output_type": "stream",
     "text": [
      "<class 'pandas.core.frame.DataFrame'>\n",
      "RangeIndex: 768 entries, 0 to 767\n",
      "Data columns (total 9 columns):\n",
      " #   Column                    Non-Null Count  Dtype  \n",
      "---  ------                    --------------  -----  \n",
      " 0   Pregnancies               768 non-null    int64  \n",
      " 1   Glucose                   768 non-null    float64\n",
      " 2   BloodPressure             768 non-null    float64\n",
      " 3   SkinThickness             768 non-null    float64\n",
      " 4   Insulin                   768 non-null    float64\n",
      " 5   BMI                       768 non-null    float64\n",
      " 6   DiabetesPedigreeFunction  768 non-null    float64\n",
      " 7   Age                       768 non-null    int64  \n",
      " 8   Outcome                   768 non-null    int64  \n",
      "dtypes: float64(6), int64(3)\n",
      "memory usage: 54.1 KB\n"
     ]
    }
   ],
   "source": [
    "data.info()"
   ]
  },
  {
   "cell_type": "markdown",
   "id": "5a59a055",
   "metadata": {
    "papermill": {
     "duration": 0.003725,
     "end_time": "2025-07-17T08:10:00.434179",
     "exception": false,
     "start_time": "2025-07-17T08:10:00.430454",
     "status": "completed"
    },
    "tags": []
   },
   "source": [
    "Checking for duplication\n"
   ]
  },
  {
   "cell_type": "code",
   "execution_count": 6,
   "id": "5c7d9eba",
   "metadata": {
    "execution": {
     "iopub.execute_input": "2025-07-17T08:10:00.443100Z",
     "iopub.status.busy": "2025-07-17T08:10:00.442798Z",
     "iopub.status.idle": "2025-07-17T08:10:00.450434Z",
     "shell.execute_reply": "2025-07-17T08:10:00.449556Z"
    },
    "papermill": {
     "duration": 0.013953,
     "end_time": "2025-07-17T08:10:00.451956",
     "exception": false,
     "start_time": "2025-07-17T08:10:00.438003",
     "status": "completed"
    },
    "tags": []
   },
   "outputs": [
    {
     "data": {
      "text/plain": [
       "0"
      ]
     },
     "execution_count": 6,
     "metadata": {},
     "output_type": "execute_result"
    }
   ],
   "source": [
    "data.duplicated().sum()"
   ]
  },
  {
   "cell_type": "markdown",
   "id": "fd7d5f41",
   "metadata": {
    "papermill": {
     "duration": 0.003753,
     "end_time": "2025-07-17T08:10:00.460087",
     "exception": false,
     "start_time": "2025-07-17T08:10:00.456334",
     "status": "completed"
    },
    "tags": []
   },
   "source": [
    "**DATA VISUALISATION**\n"
   ]
  },
  {
   "cell_type": "code",
   "execution_count": 7,
   "id": "80195efd",
   "metadata": {
    "execution": {
     "iopub.execute_input": "2025-07-17T08:10:00.470683Z",
     "iopub.status.busy": "2025-07-17T08:10:00.469885Z",
     "iopub.status.idle": "2025-07-17T08:10:00.728278Z",
     "shell.execute_reply": "2025-07-17T08:10:00.727419Z"
    },
    "papermill": {
     "duration": 0.264899,
     "end_time": "2025-07-17T08:10:00.729860",
     "exception": false,
     "start_time": "2025-07-17T08:10:00.464961",
     "status": "completed"
    },
    "tags": []
   },
   "outputs": [
    {
     "data": {
      "text/plain": [
       "<Axes: xlabel='Outcome', ylabel='count'>"
      ]
     },
     "execution_count": 7,
     "metadata": {},
     "output_type": "execute_result"
    },
    {
     "data": {
      "image/png": "[encoded data removed]",
      "text/plain": [
       "<Figure size 1200x600 with 1 Axes>"
      ]
     },
     "metadata": {},
     "output_type": "display_data"
    }
   ],
   "source": [
    "plt.figure(figsize = (12,6))\n",
    "sns.countplot(x='Outcome', data = data)"
   ]
  },
  {
   "cell_type": "markdown",
   "id": "3cddbda2",
   "metadata": {
    "execution": {
     "iopub.execute_input": "2025-07-17T03:05:44.534104Z",
     "iopub.status.busy": "2025-07-17T03:05:44.533862Z",
     "iopub.status.idle": "2025-07-17T03:05:44.539780Z",
     "shell.execute_reply": "2025-07-17T03:05:44.538595Z",
     "shell.execute_reply.started": "2025-07-17T03:05:44.534086Z"
    },
    "papermill": {
     "duration": 0.004121,
     "end_time": "2025-07-17T08:10:00.738456",
     "exception": false,
     "start_time": "2025-07-17T08:10:00.734335",
     "status": "completed"
    },
    "tags": []
   },
   "source": [
    "Observing Outliers"
   ]
  },
  {
   "cell_type": "code",
   "execution_count": 8,
   "id": "ef6b3dad",
   "metadata": {
    "execution": {
     "iopub.execute_input": "2025-07-17T08:10:00.747915Z",
     "iopub.status.busy": "2025-07-17T08:10:00.747615Z",
     "iopub.status.idle": "2025-07-17T08:10:01.509275Z",
     "shell.execute_reply": "2025-07-17T08:10:01.508300Z"
    },
    "papermill": {
     "duration": 0.768314,
     "end_time": "2025-07-17T08:10:01.510920",
     "exception": false,
     "start_time": "2025-07-17T08:10:00.742606",
     "status": "completed"
    },
    "tags": []
   },
   "outputs": [
    {
     "data": {
      "image/png": "[encoded data removed]",
      "text/plain": [
       "<Figure size 1200x1200 with 8 Axes>"
      ]
     },
     "metadata": {},
     "output_type": "display_data"
    }
   ],
   "source": [
    "plt.figure(figsize= (12,12))\n",
    "for i,col in enumerate(['Pregnancies',\t'Glucose',\t'BloodPressure',\t'SkinThickness' ,\t'Insulin' ,\t'BMI',\t'DiabetesPedigreeFunction',\t'Age' ]):\n",
    " plt.subplot(3,3,i+1)\n",
    "sns.boxplot(x=col, data=data)\n",
    "plt.show()"
   ]
  },
  {
   "cell_type": "markdown",
   "id": "8035a941",
   "metadata": {
    "papermill": {
     "duration": 0.004693,
     "end_time": "2025-07-17T08:10:01.520825",
     "exception": false,
     "start_time": "2025-07-17T08:10:01.516132",
     "status": "completed"
    },
    "tags": []
   },
   "source": [
    "**Standard Scaling and Label Encoding**"
   ]
  },
  {
   "cell_type": "code",
   "execution_count": 9,
   "id": "92a8d4e1",
   "metadata": {
    "execution": {
     "iopub.execute_input": "2025-07-17T08:10:01.531418Z",
     "iopub.status.busy": "2025-07-17T08:10:01.531108Z",
     "iopub.status.idle": "2025-07-17T08:10:01.721456Z",
     "shell.execute_reply": "2025-07-17T08:10:01.720607Z"
    },
    "papermill": {
     "duration": 0.197474,
     "end_time": "2025-07-17T08:10:01.722979",
     "exception": false,
     "start_time": "2025-07-17T08:10:01.525505",
     "status": "completed"
    },
    "tags": []
   },
   "outputs": [],
   "source": [
    "from sklearn.preprocessing import StandardScaler\n",
    "\n",
    "sc_X = StandardScaler()\n",
    "X = pd.DataFrame(\n",
    "sc_X.fit_transform(data.drop(['Outcome'], axis=1)),\n",
    "    columns=['Pregancies','Glucose','BloodPressure','SkinThickness', 'Insulin','BMI','DiabetesPedigreeFunction', 'Age']\n",
    ")\n",
    "    "
   ]
  },
  {
   "cell_type": "code",
   "execution_count": 10,
   "id": "8cb186f1",
   "metadata": {
    "execution": {
     "iopub.execute_input": "2025-07-17T08:10:01.734187Z",
     "iopub.status.busy": "2025-07-17T08:10:01.733882Z",
     "iopub.status.idle": "2025-07-17T08:10:01.746009Z",
     "shell.execute_reply": "2025-07-17T08:10:01.745119Z"
    },
    "papermill": {
     "duration": 0.01942,
     "end_time": "2025-07-17T08:10:01.747451",
     "exception": false,
     "start_time": "2025-07-17T08:10:01.728031",
     "status": "completed"
    },
    "tags": []
   },
   "outputs": [
    {
     "data": {
      "text/html": [
       "<div>\n",
       "<style scoped>\n",
       "    .dataframe tbody tr th:only-of-type {\n",
       "        vertical-align: middle;\n",
       "    }\n",
       "\n",
       "    .dataframe tbody tr th {\n",
       "        vertical-align: top;\n",
       "    }\n",
       "\n",
       "    .dataframe thead th {\n",
       "        text-align: right;\n",
       "    }\n",
       "</style>\n",
       "<table border=\"1\" class=\"dataframe\">\n",
       "  <thead>\n",
       "    <tr style=\"text-align: right;\">\n",
       "      <th></th>\n",
       "      <th>Pregancies</th>\n",
       "      <th>Glucose</th>\n",
       "      <th>BloodPressure</th>\n",
       "      <th>SkinThickness</th>\n",
       "      <th>Insulin</th>\n",
       "      <th>BMI</th>\n",
       "      <th>DiabetesPedigreeFunction</th>\n",
       "      <th>Age</th>\n",
       "    </tr>\n",
       "  </thead>\n",
       "  <tbody>\n",
       "    <tr>\n",
       "      <th>0</th>\n",
       "      <td>0.639947</td>\n",
       "      <td>0.866045</td>\n",
       "      <td>-0.031990</td>\n",
       "      <td>0.670643</td>\n",
       "      <td>-0.181541</td>\n",
       "      <td>0.166619</td>\n",
       "      <td>0.468492</td>\n",
       "      <td>1.425995</td>\n",
       "    </tr>\n",
       "    <tr>\n",
       "      <th>1</th>\n",
       "      <td>-0.844885</td>\n",
       "      <td>-1.205066</td>\n",
       "      <td>-0.528319</td>\n",
       "      <td>-0.012301</td>\n",
       "      <td>-0.181541</td>\n",
       "      <td>-0.852200</td>\n",
       "      <td>-0.365061</td>\n",
       "      <td>-0.190672</td>\n",
       "    </tr>\n",
       "    <tr>\n",
       "      <th>2</th>\n",
       "      <td>1.233880</td>\n",
       "      <td>2.016662</td>\n",
       "      <td>-0.693761</td>\n",
       "      <td>-0.012301</td>\n",
       "      <td>-0.181541</td>\n",
       "      <td>-1.332500</td>\n",
       "      <td>0.604397</td>\n",
       "      <td>-0.105584</td>\n",
       "    </tr>\n",
       "    <tr>\n",
       "      <th>3</th>\n",
       "      <td>-0.844885</td>\n",
       "      <td>-1.073567</td>\n",
       "      <td>-0.528319</td>\n",
       "      <td>-0.695245</td>\n",
       "      <td>-0.540642</td>\n",
       "      <td>-0.633881</td>\n",
       "      <td>-0.920763</td>\n",
       "      <td>-1.041549</td>\n",
       "    </tr>\n",
       "    <tr>\n",
       "      <th>4</th>\n",
       "      <td>-1.141852</td>\n",
       "      <td>0.504422</td>\n",
       "      <td>-2.679076</td>\n",
       "      <td>0.670643</td>\n",
       "      <td>0.316566</td>\n",
       "      <td>1.549303</td>\n",
       "      <td>5.484909</td>\n",
       "      <td>-0.020496</td>\n",
       "    </tr>\n",
       "  </tbody>\n",
       "</table>\n",
       "</div>"
      ],
      "text/plain": [
       "   Pregancies   Glucose  BloodPressure  SkinThickness   Insulin       BMI  \\\n",
       "0    0.639947  0.866045      -0.031990       0.670643 -0.181541  0.166619   \n",
       "1   -0.844885 -1.205066      -0.528319      -0.012301 -0.181541 -0.852200   \n",
       "2    1.233880  2.016662      -0.693761      -0.012301 -0.181541 -1.332500   \n",
       "3   -0.844885 -1.073567      -0.528319      -0.695245 -0.540642 -0.633881   \n",
       "4   -1.141852  0.504422      -2.679076       0.670643  0.316566  1.549303   \n",
       "\n",
       "   DiabetesPedigreeFunction       Age  \n",
       "0                  0.468492  1.425995  \n",
       "1                 -0.365061 -0.190672  \n",
       "2                  0.604397 -0.105584  \n",
       "3                 -0.920763 -1.041549  \n",
       "4                  5.484909 -0.020496  "
      ]
     },
     "execution_count": 10,
     "metadata": {},
     "output_type": "execute_result"
    }
   ],
   "source": [
    "X.head()"
   ]
  },
  {
   "cell_type": "code",
   "execution_count": 11,
   "id": "4f421aff",
   "metadata": {
    "execution": {
     "iopub.execute_input": "2025-07-17T08:10:01.759280Z",
     "iopub.status.busy": "2025-07-17T08:10:01.758962Z",
     "iopub.status.idle": "2025-07-17T08:10:01.762940Z",
     "shell.execute_reply": "2025-07-17T08:10:01.762157Z"
    },
    "papermill": {
     "duration": 0.011472,
     "end_time": "2025-07-17T08:10:01.764386",
     "exception": false,
     "start_time": "2025-07-17T08:10:01.752914",
     "status": "completed"
    },
    "tags": []
   },
   "outputs": [],
   "source": [
    "y= data['Outcome']"
   ]
  },
  {
   "cell_type": "code",
   "execution_count": 12,
   "id": "c869169a",
   "metadata": {
    "execution": {
     "iopub.execute_input": "2025-07-17T08:10:01.775335Z",
     "iopub.status.busy": "2025-07-17T08:10:01.775051Z",
     "iopub.status.idle": "2025-07-17T08:10:01.895868Z",
     "shell.execute_reply": "2025-07-17T08:10:01.894820Z"
    },
    "papermill": {
     "duration": 0.128324,
     "end_time": "2025-07-17T08:10:01.897750",
     "exception": false,
     "start_time": "2025-07-17T08:10:01.769426",
     "status": "completed"
    },
    "tags": []
   },
   "outputs": [],
   "source": [
    "from sklearn.model_selection import train_test_split\n",
    "\n",
    "X_train, X_test, y_train, y_test = train_test_split(X, y, test_size=0.3, random_state=0)\n"
   ]
  },
  {
   "cell_type": "code",
   "execution_count": 13,
   "id": "466aad83",
   "metadata": {
    "execution": {
     "iopub.execute_input": "2025-07-17T08:10:01.910413Z",
     "iopub.status.busy": "2025-07-17T08:10:01.909475Z",
     "iopub.status.idle": "2025-07-17T08:10:02.805597Z",
     "shell.execute_reply": "2025-07-17T08:10:02.804420Z"
    },
    "papermill": {
     "duration": 0.904064,
     "end_time": "2025-07-17T08:10:02.807281",
     "exception": false,
     "start_time": "2025-07-17T08:10:01.903217",
     "status": "completed"
    },
    "tags": []
   },
   "outputs": [],
   "source": [
    "from sklearn.neighbors import KNeighborsClassifier\n",
    "\n",
    "test_scores = []\n",
    "train_scores = []\n",
    "\n",
    "for i in range(1, 15):\n",
    "    knn = KNeighborsClassifier(n_neighbors=i)\n",
    "    knn.fit(X_train, y_train)\n",
    "    train_scores.append(knn.score(X_train, y_train))\n",
    "    test_scores.append(knn.score(X_test, y_test))\n"
   ]
  },
  {
   "cell_type": "code",
   "execution_count": 14,
   "id": "422c042b",
   "metadata": {
    "execution": {
     "iopub.execute_input": "2025-07-17T08:10:02.819384Z",
     "iopub.status.busy": "2025-07-17T08:10:02.818701Z",
     "iopub.status.idle": "2025-07-17T08:10:02.824490Z",
     "shell.execute_reply": "2025-07-17T08:10:02.823622Z"
    },
    "papermill": {
     "duration": 0.013182,
     "end_time": "2025-07-17T08:10:02.825900",
     "exception": false,
     "start_time": "2025-07-17T08:10:02.812718",
     "status": "completed"
    },
    "tags": []
   },
   "outputs": [
    {
     "name": "stdout",
     "output_type": "stream",
     "text": [
      "Maximum Train Score: 100.00% at k = [1]\n"
     ]
    }
   ],
   "source": [
    "max_train_score = max(train_scores)\n",
    "train_scores_index = [i for i, v in enumerate(train_scores) if v == max_train_score]\n",
    "\n",
    "print(\"Maximum Train Score: {:.2f}% at k = {}\".format(\n",
    "    max_train_score * 100,\n",
    "    list(map(lambda x: x + 1, train_scores_index))\n",
    "))\n",
    "\n"
   ]
  },
  {
   "cell_type": "markdown",
   "id": "9c67db35",
   "metadata": {
    "papermill": {
     "duration": 0.00483,
     "end_time": "2025-07-17T08:10:02.835929",
     "exception": false,
     "start_time": "2025-07-17T08:10:02.831099",
     "status": "completed"
    },
    "tags": []
   },
   "source": [
    "**TEST SCORES**"
   ]
  },
  {
   "cell_type": "code",
   "execution_count": 15,
   "id": "42048220",
   "metadata": {
    "execution": {
     "iopub.execute_input": "2025-07-17T08:10:02.847196Z",
     "iopub.status.busy": "2025-07-17T08:10:02.846899Z",
     "iopub.status.idle": "2025-07-17T08:10:02.852179Z",
     "shell.execute_reply": "2025-07-17T08:10:02.851433Z"
    },
    "papermill": {
     "duration": 0.012697,
     "end_time": "2025-07-17T08:10:02.853722",
     "exception": false,
     "start_time": "2025-07-17T08:10:02.841025",
     "status": "completed"
    },
    "tags": []
   },
   "outputs": [
    {
     "name": "stdout",
     "output_type": "stream",
     "text": [
      "Maximum Test Score: 80.52% at k = [9]\n"
     ]
    }
   ],
   "source": [
    "max_test_score = max(test_scores)\n",
    "test_scores_index = [i for i, v in enumerate(test_scores) if v == max_test_score]\n",
    "\n",
    "print(\"Maximum Test Score: {:.2f}% at k = {}\".format(\n",
    "    max_test_score * 100,\n",
    "    list(map(lambda x: x + 1, test_scores_index))\n",
    "))\n"
   ]
  }
 ],
 "metadata": {
  "kaggle": {
   "accelerator": "none",
   "dataSources": [
    {
     "datasetId": 228,
     "sourceId": 482,
     "sourceType": "datasetVersion"
    }
   ],
   "dockerImageVersionId": 31089,
   "isGpuEnabled": false,
   "isInternetEnabled": false,
   "language": "python",
   "sourceType": "notebook"
  },
  "kernelspec": {
   "display_name": "Python 3",
   "language": "python",
   "name": "python3"
  },
  "language_info": {
   "codemirror_mode": {
    "name": "ipython",
    "version": 3
   },
   "file_extension": ".py",
   "mimetype": "text/x-python",
   "name": "python",
   "nbconvert_exporter": "python",
   "pygments_lexer": "ipython3",
   "version": "3.11.13"
  },
  "papermill": {
   "default_parameters": {},
   "duration": 11.827626,
   "end_time": "2025-07-17T08:10:03.678700",
   "environment_variables": {},
   "exception": null,
   "input_path": "__notebook__.ipynb",
   "output_path": "__notebook__.ipynb",
   "parameters": {},
   "start_time": "2025-07-17T08:09:51.851074",
   "version": "2.6.0"
  }
 },
 "nbformat": 4,
 "nbformat_minor": 5
}
